{
 "cells": [
  {
   "cell_type": "code",
   "execution_count": 1,
   "id": "4f1e14a7",
   "metadata": {},
   "outputs": [
    {
     "data": {
      "text/plain": [
       "{'__name__': '__main__',\n",
       " '__doc__': 'Automatically created module for IPython interactive environment',\n",
       " '__package__': None,\n",
       " '__loader__': None,\n",
       " '__spec__': None,\n",
       " '__builtin__': <module 'builtins' (built-in)>,\n",
       " '__builtins__': <module 'builtins' (built-in)>,\n",
       " '_ih': ['', '# 全域變數\\nglobals()'],\n",
       " '_oh': {},\n",
       " '_dh': [WindowsPath('C:/Users/Tibame_EX14/PycharmProjects/pythonProject1')],\n",
       " 'In': ['', '# 全域變數\\nglobals()'],\n",
       " 'Out': {},\n",
       " 'get_ipython': <bound method InteractiveShell.get_ipython of <ipykernel.zmqshell.ZMQInteractiveShell object at 0x000001ADC82B66A0>>,\n",
       " 'exit': <IPython.core.autocall.ZMQExitAutocall at 0x1adc82b6e20>,\n",
       " 'quit': <IPython.core.autocall.ZMQExitAutocall at 0x1adc82b6e20>,\n",
       " 'open': <function io.open(file, mode='r', buffering=-1, encoding=None, errors=None, newline=None, closefd=True, opener=None)>,\n",
       " '_': '',\n",
       " '__': '',\n",
       " '___': '',\n",
       " '_i': '',\n",
       " '_ii': '',\n",
       " '_iii': '',\n",
       " '_i1': '# 全域變數\\nglobals()'}"
      ]
     },
     "execution_count": 1,
     "metadata": {},
     "output_type": "execute_result"
    }
   ],
   "source": [
    "# 全域變數\n",
    "globals()"
   ]
  },
  {
   "cell_type": "code",
   "execution_count": 2,
   "id": "b758c311",
   "metadata": {},
   "outputs": [],
   "source": [
    "aaa = 123"
   ]
  },
  {
   "cell_type": "code",
   "execution_count": 3,
   "id": "d1c7bca3",
   "metadata": {},
   "outputs": [
    {
     "data": {
      "text/plain": [
       "{'__name__': '__main__',\n",
       " '__doc__': 'Automatically created module for IPython interactive environment',\n",
       " '__package__': None,\n",
       " '__loader__': None,\n",
       " '__spec__': None,\n",
       " '__builtin__': <module 'builtins' (built-in)>,\n",
       " '__builtins__': <module 'builtins' (built-in)>,\n",
       " '_ih': ['', '# 全域變數\\nglobals()', 'aaa = 123', 'globals()'],\n",
       " '_oh': {1: {...}},\n",
       " '_dh': [WindowsPath('C:/Users/Tibame_EX14/PycharmProjects/pythonProject1')],\n",
       " 'In': ['', '# 全域變數\\nglobals()', 'aaa = 123', 'globals()'],\n",
       " 'Out': {1: {...}},\n",
       " 'get_ipython': <bound method InteractiveShell.get_ipython of <ipykernel.zmqshell.ZMQInteractiveShell object at 0x000001ADC82B66A0>>,\n",
       " 'exit': <IPython.core.autocall.ZMQExitAutocall at 0x1adc82b6e20>,\n",
       " 'quit': <IPython.core.autocall.ZMQExitAutocall at 0x1adc82b6e20>,\n",
       " 'open': <function io.open(file, mode='r', buffering=-1, encoding=None, errors=None, newline=None, closefd=True, opener=None)>,\n",
       " '_': {...},\n",
       " '__': '',\n",
       " '___': '',\n",
       " '_i': 'aaa = 123',\n",
       " '_ii': '# 全域變數\\nglobals()',\n",
       " '_iii': '',\n",
       " '_i1': '# 全域變數\\nglobals()',\n",
       " '_1': {...},\n",
       " '_i2': 'aaa = 123',\n",
       " 'aaa': 123,\n",
       " '_i3': 'globals()'}"
      ]
     },
     "execution_count": 3,
     "metadata": {},
     "output_type": "execute_result"
    }
   ],
   "source": [
    "globals()"
   ]
  },
  {
   "cell_type": "code",
   "execution_count": 4,
   "id": "5ddf824d",
   "metadata": {},
   "outputs": [
    {
     "data": {
      "text/plain": [
       "{'__name__': '__main__',\n",
       " '__doc__': 'Automatically created module for IPython interactive environment',\n",
       " '__package__': None,\n",
       " '__loader__': None,\n",
       " '__spec__': None,\n",
       " '__builtin__': <module 'builtins' (built-in)>,\n",
       " '__builtins__': <module 'builtins' (built-in)>,\n",
       " '_ih': ['',\n",
       "  '# 全域變數\\nglobals()',\n",
       "  'aaa = 123',\n",
       "  'globals()',\n",
       "  '# 區域變數\\nlocals()'],\n",
       " '_oh': {1: {...}, 3: {...}},\n",
       " '_dh': [WindowsPath('C:/Users/Tibame_EX14/PycharmProjects/pythonProject1')],\n",
       " 'In': ['', '# 全域變數\\nglobals()', 'aaa = 123', 'globals()', '# 區域變數\\nlocals()'],\n",
       " 'Out': {1: {...}, 3: {...}},\n",
       " 'get_ipython': <bound method InteractiveShell.get_ipython of <ipykernel.zmqshell.ZMQInteractiveShell object at 0x000001ADC82B66A0>>,\n",
       " 'exit': <IPython.core.autocall.ZMQExitAutocall at 0x1adc82b6e20>,\n",
       " 'quit': <IPython.core.autocall.ZMQExitAutocall at 0x1adc82b6e20>,\n",
       " 'open': <function io.open(file, mode='r', buffering=-1, encoding=None, errors=None, newline=None, closefd=True, opener=None)>,\n",
       " '_': {...},\n",
       " '__': {...},\n",
       " '___': '',\n",
       " '_i': 'globals()',\n",
       " '_ii': 'aaa = 123',\n",
       " '_iii': '# 全域變數\\nglobals()',\n",
       " '_i1': '# 全域變數\\nglobals()',\n",
       " '_1': {...},\n",
       " '_i2': 'aaa = 123',\n",
       " 'aaa': 123,\n",
       " '_i3': 'globals()',\n",
       " '_3': {...},\n",
       " '_i4': '# 區域變數\\nlocals()'}"
      ]
     },
     "execution_count": 4,
     "metadata": {},
     "output_type": "execute_result"
    }
   ],
   "source": [
    "# 區域變數\n",
    "locals()"
   ]
  },
  {
   "cell_type": "code",
   "execution_count": 5,
   "id": "1a18366d",
   "metadata": {},
   "outputs": [],
   "source": [
    "def test():\n",
    "    ttt = 456\n",
    "    print(locals())"
   ]
  },
  {
   "cell_type": "code",
   "execution_count": 6,
   "id": "83223491",
   "metadata": {},
   "outputs": [
    {
     "name": "stdout",
     "output_type": "stream",
     "text": [
      "{'ttt': 456}\n"
     ]
    }
   ],
   "source": [
    "test()"
   ]
  },
  {
   "cell_type": "code",
   "execution_count": null,
   "id": "5eb310f3",
   "metadata": {},
   "outputs": [],
   "source": []
  }
 ],
 "metadata": {
  "kernelspec": {
   "display_name": "Python 3 (ipykernel)",
   "language": "python",
   "name": "python3"
  },
  "language_info": {
   "codemirror_mode": {
    "name": "ipython",
    "version": 3
   },
   "file_extension": ".py",
   "mimetype": "text/x-python",
   "name": "python",
   "nbconvert_exporter": "python",
   "pygments_lexer": "ipython3",
   "version": "3.8.10"
  }
 },
 "nbformat": 4,
 "nbformat_minor": 5
}
