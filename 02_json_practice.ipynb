{
 "cells": [
  {
   "cell_type": "code",
   "execution_count": 1,
   "id": "4c38f341",
   "metadata": {},
   "outputs": [],
   "source": [
    "import json"
   ]
  },
  {
   "cell_type": "code",
   "execution_count": 2,
   "id": "d6142941",
   "metadata": {},
   "outputs": [],
   "source": [
    "test_dict = {\n",
    "    'test1': 'aaa',\n",
    "    'test2': [\n",
    "        123,\n",
    "        234,\n",
    "        345\n",
    "    ]\n",
    "}"
   ]
  },
  {
   "cell_type": "markdown",
   "id": "d4952258",
   "metadata": {},
   "source": [
    "## dumps"
   ]
  },
  {
   "cell_type": "code",
   "execution_count": 3,
   "id": "ebe91c3c",
   "metadata": {},
   "outputs": [
    {
     "data": {
      "text/plain": [
       "'{\"test1\": \"aaa\", \"test2\": [123, 234, 345]}'"
      ]
     },
     "execution_count": 3,
     "metadata": {},
     "output_type": "execute_result"
    }
   ],
   "source": [
    "json.dumps(test_dict)"
   ]
  },
  {
   "cell_type": "code",
   "execution_count": 4,
   "id": "250650cf",
   "metadata": {},
   "outputs": [],
   "source": [
    "with open(\"./test_dumps.json\", \"w\", encoding=\"utf-8\") as f:\n",
    "    f.write(json.dumps(test_dict))"
   ]
  },
  {
   "cell_type": "markdown",
   "id": "aa289f7a",
   "metadata": {},
   "source": [
    "## dump"
   ]
  },
  {
   "cell_type": "code",
   "execution_count": 5,
   "id": "1346f6b5",
   "metadata": {},
   "outputs": [],
   "source": [
    "f = open(\"./test_dump.json\", \"w\", encoding=\"utf-8\")  # 要先建立一個檔案\n",
    "json.dump(test_dict, f, indent=3)\n",
    "f.close()"
   ]
  },
  {
   "cell_type": "code",
   "execution_count": null,
   "id": "6641dd59",
   "metadata": {},
   "outputs": [],
   "source": [
    "with open(\"./test_dump.json\", \"w\", encoding=\"utf-8\") as f:\n",
    "    json.dump(test_dict, f)"
   ]
  },
  {
   "cell_type": "code",
   "execution_count": 6,
   "id": "1138fea5",
   "metadata": {
    "scrolled": true
   },
   "outputs": [
    {
     "name": "stdout",
     "output_type": "stream",
     "text": [
      "Help on function dump in module json:\n",
      "\n",
      "dump(obj, fp, *, skipkeys=False, ensure_ascii=True, check_circular=True, allow_nan=True, cls=None, indent=None, separators=None, default=None, sort_keys=False, **kw)\n",
      "    Serialize ``obj`` as a JSON formatted stream to ``fp`` (a\n",
      "    ``.write()``-supporting file-like object).\n",
      "    \n",
      "    If ``skipkeys`` is true then ``dict`` keys that are not basic types\n",
      "    (``str``, ``int``, ``float``, ``bool``, ``None``) will be skipped\n",
      "    instead of raising a ``TypeError``.\n",
      "    \n",
      "    If ``ensure_ascii`` is false, then the strings written to ``fp`` can\n",
      "    contain non-ASCII characters if they appear in strings contained in\n",
      "    ``obj``. Otherwise, all such characters are escaped in JSON strings.\n",
      "    \n",
      "    If ``check_circular`` is false, then the circular reference check\n",
      "    for container types will be skipped and a circular reference will\n",
      "    result in an ``OverflowError`` (or worse).\n",
      "    \n",
      "    If ``allow_nan`` is false, then it will be a ``ValueError`` to\n",
      "    serialize out of range ``float`` values (``nan``, ``inf``, ``-inf``)\n",
      "    in strict compliance of the JSON specification, instead of using the\n",
      "    JavaScript equivalents (``NaN``, ``Infinity``, ``-Infinity``).\n",
      "    \n",
      "    If ``indent`` is a non-negative integer, then JSON array elements and\n",
      "    object members will be pretty-printed with that indent level. An indent\n",
      "    level of 0 will only insert newlines. ``None`` is the most compact\n",
      "    representation.\n",
      "    \n",
      "    If specified, ``separators`` should be an ``(item_separator, key_separator)``\n",
      "    tuple.  The default is ``(', ', ': ')`` if *indent* is ``None`` and\n",
      "    ``(',', ': ')`` otherwise.  To get the most compact JSON representation,\n",
      "    you should specify ``(',', ':')`` to eliminate whitespace.\n",
      "    \n",
      "    ``default(obj)`` is a function that should return a serializable version\n",
      "    of obj or raise TypeError. The default simply raises TypeError.\n",
      "    \n",
      "    If *sort_keys* is true (default: ``False``), then the output of\n",
      "    dictionaries will be sorted by key.\n",
      "    \n",
      "    To use a custom ``JSONEncoder`` subclass (e.g. one that overrides the\n",
      "    ``.default()`` method to serialize additional types), specify it with\n",
      "    the ``cls`` kwarg; otherwise ``JSONEncoder`` is used.\n",
      "\n"
     ]
    }
   ],
   "source": [
    "help(json.dump)  # 查看原始碼"
   ]
  },
  {
   "cell_type": "markdown",
   "id": "83623461",
   "metadata": {},
   "source": [
    "## 讀取json資料"
   ]
  },
  {
   "cell_type": "code",
   "execution_count": 7,
   "id": "4075d1f2",
   "metadata": {},
   "outputs": [],
   "source": [
    "file_name = \"./test_dumps.json\""
   ]
  },
  {
   "cell_type": "code",
   "execution_count": 8,
   "id": "ed6eca93",
   "metadata": {},
   "outputs": [
    {
     "data": {
      "text/plain": [
       "{'test1': 'aaa', 'test2': [123, 234, 345]}"
      ]
     },
     "execution_count": 8,
     "metadata": {},
     "output_type": "execute_result"
    }
   ],
   "source": [
    "with open(file_name, \"r\", encoding=\"utf-8\") as f:\n",
    "    json_data = json.loads(f.read())\n",
    "    \n",
    "json_data"
   ]
  },
  {
   "cell_type": "code",
   "execution_count": 9,
   "id": "b8e74600",
   "metadata": {},
   "outputs": [
    {
     "data": {
      "text/plain": [
       "{'test1': 'aaa', 'test2': [123, 234, 345]}"
      ]
     },
     "execution_count": 9,
     "metadata": {},
     "output_type": "execute_result"
    }
   ],
   "source": [
    "with open(file_name, \"r\", encoding=\"utf-8\") as f:\n",
    "    json_data = json.load(f)  # 直接讀取檔案路徑\n",
    "    \n",
    "json_data"
   ]
  },
  {
   "cell_type": "code",
   "execution_count": 10,
   "id": "1f9f174f",
   "metadata": {},
   "outputs": [
    {
     "name": "stdout",
     "output_type": "stream",
     "text": [
      "{'test1': 'aaa', 'test2': [123, 234, 345]}\n"
     ]
    }
   ],
   "source": [
    "import pprint  # 讓json排版\n",
    "pprint.pprint(json_data)"
   ]
  },
  {
   "cell_type": "code",
   "execution_count": null,
   "id": "75d92e25",
   "metadata": {},
   "outputs": [],
   "source": []
  }
 ],
 "metadata": {
  "kernelspec": {
   "display_name": "Python 3 (ipykernel)",
   "language": "python",
   "name": "python3"
  },
  "language_info": {
   "codemirror_mode": {
    "name": "ipython",
    "version": 3
   },
   "file_extension": ".py",
   "mimetype": "text/x-python",
   "name": "python",
   "nbconvert_exporter": "python",
   "pygments_lexer": "ipython3",
   "version": "3.8.10"
  }
 },
 "nbformat": 4,
 "nbformat_minor": 5
}
