{
 "cells": [
  {
   "cell_type": "code",
   "execution_count": 1,
   "id": "b7db9cd8",
   "metadata": {
    "scrolled": true
   },
   "outputs": [
    {
     "name": "stdout",
     "output_type": "stream",
     "text": [
      "Requirement already satisfied: numpy in c:\\users\\tibame_ex14\\appdata\\local\\programs\\python\\python38\\lib\\site-packages (1.19.5)\n"
     ]
    },
    {
     "name": "stderr",
     "output_type": "stream",
     "text": [
      "WARNING: You are using pip version 21.1.1; however, version 23.0.1 is available.\n",
      "You should consider upgrading via the 'c:\\users\\tibame_ex14\\appdata\\local\\programs\\python\\python38\\python.exe -m pip install --upgrade pip' command.\n"
     ]
    }
   ],
   "source": [
    "!pip install numpy  # !-> 使用終端機"
   ]
  },
  {
   "cell_type": "code",
   "execution_count": 2,
   "id": "6b260ba0",
   "metadata": {},
   "outputs": [],
   "source": [
    "import numpy as np"
   ]
  },
  {
   "cell_type": "code",
   "execution_count": 3,
   "id": "624ffa45",
   "metadata": {},
   "outputs": [
    {
     "data": {
      "text/plain": [
       "array([0., 0., 0.])"
      ]
     },
     "execution_count": 3,
     "metadata": {},
     "output_type": "execute_result"
    }
   ],
   "source": [
    "np.zeros(3)"
   ]
  },
  {
   "cell_type": "code",
   "execution_count": 4,
   "id": "b1b0d593",
   "metadata": {},
   "outputs": [
    {
     "data": {
      "text/plain": [
       "numpy.ndarray"
      ]
     },
     "execution_count": 4,
     "metadata": {},
     "output_type": "execute_result"
    }
   ],
   "source": [
    "type(np.zeros(3))"
   ]
  },
  {
   "cell_type": "code",
   "execution_count": 6,
   "id": "4bd50109",
   "metadata": {},
   "outputs": [
    {
     "data": {
      "text/plain": [
       "array([[0, 0, 0],\n",
       "       [0, 0, 0]])"
      ]
     },
     "execution_count": 6,
     "metadata": {},
     "output_type": "execute_result"
    }
   ],
   "source": [
    "np.zeros((2, 3), dtype=int)  # 預設為浮點數"
   ]
  },
  {
   "cell_type": "code",
   "execution_count": 7,
   "id": "ce07b1f1",
   "metadata": {},
   "outputs": [
    {
     "data": {
      "text/plain": [
       "array([1., 1., 1., 1., 1.])"
      ]
     },
     "execution_count": 7,
     "metadata": {},
     "output_type": "execute_result"
    }
   ],
   "source": [
    "np.ones(5)"
   ]
  },
  {
   "cell_type": "code",
   "execution_count": 8,
   "id": "ad030ba3",
   "metadata": {
    "scrolled": false
   },
   "outputs": [
    {
     "data": {
      "text/plain": [
       "array([1, 1, 1, 1, 1])"
      ]
     },
     "execution_count": 8,
     "metadata": {},
     "output_type": "execute_result"
    }
   ],
   "source": [
    "np.ones(5, dtype=int)"
   ]
  },
  {
   "cell_type": "code",
   "execution_count": 9,
   "id": "748d74ac",
   "metadata": {},
   "outputs": [
    {
     "data": {
      "text/plain": [
       "array([[0.00000000e+000, 0.00000000e+000, 0.00000000e+000],\n",
       "       [0.00000000e+000, 0.00000000e+000, 7.54932307e-321],\n",
       "       [1.78019082e-306, 0.00000000e+000, 2.54639495e-313]])"
      ]
     },
     "execution_count": 9,
     "metadata": {},
     "output_type": "execute_result"
    }
   ],
   "source": [
    "np.empty((3, 3))  # 產生沒有意義的數字"
   ]
  },
  {
   "cell_type": "code",
   "execution_count": 10,
   "id": "d2e4edfe",
   "metadata": {},
   "outputs": [
    {
     "data": {
      "text/plain": [
       "array([255, 255, 255])"
      ]
     },
     "execution_count": 10,
     "metadata": {},
     "output_type": "execute_result"
    }
   ],
   "source": [
    "np.full(3, 255)"
   ]
  },
  {
   "cell_type": "code",
   "execution_count": 11,
   "id": "0895cab3",
   "metadata": {},
   "outputs": [
    {
     "data": {
      "text/plain": [
       "array([[0.45015333, 0.68188528, 0.13690318, 0.31548138, 0.18079456],\n",
       "       [0.83504865, 0.54334698, 0.00993224, 0.2354261 , 0.34571198]])"
      ]
     },
     "execution_count": 11,
     "metadata": {},
     "output_type": "execute_result"
    }
   ],
   "source": [
    "np.random.rand(2, 5)  # 產生0~1的亂數"
   ]
  },
  {
   "cell_type": "code",
   "execution_count": 13,
   "id": "10c558e1",
   "metadata": {},
   "outputs": [
    {
     "data": {
      "text/plain": [
       "array([[3, 4, 5],\n",
       "       [2, 5, 2]])"
      ]
     },
     "execution_count": 13,
     "metadata": {},
     "output_type": "execute_result"
    }
   ],
   "source": [
    "np.random.randint(low=2, high=8, size=(2, 3), dtype=int)  # 產生2~8之間的亂數"
   ]
  },
  {
   "cell_type": "code",
   "execution_count": 3,
   "id": "f06e228c",
   "metadata": {},
   "outputs": [
    {
     "data": {
      "text/plain": [
       "array([[2, 4, 4],\n",
       "       [4, 3, 2]])"
      ]
     },
     "execution_count": 3,
     "metadata": {},
     "output_type": "execute_result"
    }
   ],
   "source": [
    "test_arr = np.array([[2, 4, 4],\n",
    "                     [4, 3, 2]])\n",
    "test_arr"
   ]
  },
  {
   "cell_type": "code",
   "execution_count": 4,
   "id": "3e87896b",
   "metadata": {},
   "outputs": [
    {
     "data": {
      "text/plain": [
       "2"
      ]
     },
     "execution_count": 4,
     "metadata": {},
     "output_type": "execute_result"
    }
   ],
   "source": [
    "test_arr.ndim  # 幾維"
   ]
  },
  {
   "cell_type": "code",
   "execution_count": 5,
   "id": "948c49a9",
   "metadata": {},
   "outputs": [
    {
     "data": {
      "text/plain": [
       "(2, 3)"
      ]
     },
     "execution_count": 5,
     "metadata": {},
     "output_type": "execute_result"
    }
   ],
   "source": [
    "test_arr.shape  # 幾列幾欄"
   ]
  },
  {
   "cell_type": "code",
   "execution_count": 6,
   "id": "2fe835cf",
   "metadata": {},
   "outputs": [
    {
     "data": {
      "text/plain": [
       "6"
      ]
     },
     "execution_count": 6,
     "metadata": {},
     "output_type": "execute_result"
    }
   ],
   "source": [
    "test_arr.size  # 總共多少個值"
   ]
  },
  {
   "cell_type": "code",
   "execution_count": 18,
   "id": "45544653",
   "metadata": {},
   "outputs": [
    {
     "data": {
      "text/plain": [
       "(2, 3)"
      ]
     },
     "execution_count": 18,
     "metadata": {},
     "output_type": "execute_result"
    }
   ],
   "source": [
    "np.random.randint(low=2, high=8, size=(2, 3), dtype=int).shape"
   ]
  },
  {
   "cell_type": "code",
   "execution_count": 19,
   "id": "75372ed0",
   "metadata": {},
   "outputs": [
    {
     "data": {
      "text/plain": [
       "6"
      ]
     },
     "execution_count": 19,
     "metadata": {},
     "output_type": "execute_result"
    }
   ],
   "source": [
    "np.random.randint(low=2, high=8, size=(2, 3), dtype=int).size"
   ]
  },
  {
   "cell_type": "code",
   "execution_count": 20,
   "id": "2bda35c0",
   "metadata": {},
   "outputs": [
    {
     "data": {
      "text/plain": [
       "2"
      ]
     },
     "execution_count": 20,
     "metadata": {},
     "output_type": "execute_result"
    }
   ],
   "source": [
    "np.random.randint(low=2, high=8, size=(2, 3), dtype=int).ndim"
   ]
  },
  {
   "cell_type": "code",
   "execution_count": 21,
   "id": "2d5a0844",
   "metadata": {},
   "outputs": [
    {
     "data": {
      "text/plain": [
       "array([[3, 6, 6],\n",
       "       [6, 3, 6]])"
      ]
     },
     "execution_count": 21,
     "metadata": {},
     "output_type": "execute_result"
    }
   ],
   "source": [
    "arr = np.random.randint(low=2, high=8, size=(2, 3), dtype=int)\n",
    "arr"
   ]
  },
  {
   "cell_type": "code",
   "execution_count": 22,
   "id": "ea81fadf",
   "metadata": {},
   "outputs": [
    {
     "data": {
      "text/plain": [
       "array([[3, 6],\n",
       "       [6, 6],\n",
       "       [3, 6]])"
      ]
     },
     "execution_count": 22,
     "metadata": {},
     "output_type": "execute_result"
    }
   ],
   "source": [
    "arr.reshape((3, 2))"
   ]
  },
  {
   "cell_type": "code",
   "execution_count": 23,
   "id": "b3553941",
   "metadata": {},
   "outputs": [
    {
     "data": {
      "text/plain": [
       "array([[3, 6],\n",
       "       [6, 6],\n",
       "       [3, 6]])"
      ]
     },
     "execution_count": 23,
     "metadata": {},
     "output_type": "execute_result"
    }
   ],
   "source": [
    "arr.reshape((3, -1))  # 值不好判斷時,輸入-1自動判別"
   ]
  },
  {
   "cell_type": "code",
   "execution_count": null,
   "id": "70fdaf8d",
   "metadata": {},
   "outputs": [],
   "source": [
    "1,2,3,4,5,6,7,8,d,d,f,s,g,j,d,w,z,c,g,r,42,1,2,3,4,5,6,7,8,d,d,f,s,g,j,d,w,z,c,g,r,42\n",
    "arr.reshape((-1, 10))"
   ]
  },
  {
   "cell_type": "code",
   "execution_count": 8,
   "id": "a82bccc0",
   "metadata": {},
   "outputs": [
    {
     "data": {
      "text/plain": [
       "array([1, 2, 3, 4, 5, 6])"
      ]
     },
     "execution_count": 8,
     "metadata": {},
     "output_type": "execute_result"
    }
   ],
   "source": [
    "arr = np.array([1, 2, 3, 4, 5, 6])\n",
    "arr"
   ]
  },
  {
   "cell_type": "code",
   "execution_count": 25,
   "id": "bfe06247",
   "metadata": {
    "scrolled": true
   },
   "outputs": [
    {
     "data": {
      "text/plain": [
       "3.5"
      ]
     },
     "execution_count": 25,
     "metadata": {},
     "output_type": "execute_result"
    }
   ],
   "source": [
    "arr.mean()  # 風格偏向物件導向"
   ]
  },
  {
   "cell_type": "code",
   "execution_count": 26,
   "id": "85ebe6a9",
   "metadata": {},
   "outputs": [
    {
     "data": {
      "text/plain": [
       "3.5"
      ]
     },
     "execution_count": 26,
     "metadata": {},
     "output_type": "execute_result"
    }
   ],
   "source": [
    "np.mean(arr)  # 風格偏向函數導向"
   ]
  },
  {
   "cell_type": "code",
   "execution_count": 27,
   "id": "e2779923",
   "metadata": {},
   "outputs": [
    {
     "data": {
      "text/plain": [
       "6"
      ]
     },
     "execution_count": 27,
     "metadata": {},
     "output_type": "execute_result"
    }
   ],
   "source": [
    "arr.max()"
   ]
  },
  {
   "cell_type": "code",
   "execution_count": 28,
   "id": "11778c2b",
   "metadata": {},
   "outputs": [
    {
     "data": {
      "text/plain": [
       "1"
      ]
     },
     "execution_count": 28,
     "metadata": {},
     "output_type": "execute_result"
    }
   ],
   "source": [
    "arr.min()"
   ]
  },
  {
   "cell_type": "code",
   "execution_count": 29,
   "id": "7bb1159e",
   "metadata": {},
   "outputs": [
    {
     "data": {
      "text/plain": [
       "3.5"
      ]
     },
     "execution_count": 29,
     "metadata": {},
     "output_type": "execute_result"
    }
   ],
   "source": [
    "np.median(arr)  # 中位數,偶數個無解"
   ]
  },
  {
   "cell_type": "code",
   "execution_count": 30,
   "id": "3d1fc29d",
   "metadata": {
    "scrolled": true
   },
   "outputs": [
    {
     "name": "stdout",
     "output_type": "stream",
     "text": [
      "Help on function median in module numpy:\n",
      "\n",
      "median(a, axis=None, out=None, overwrite_input=False, keepdims=False)\n",
      "    Compute the median along the specified axis.\n",
      "    \n",
      "    Returns the median of the array elements.\n",
      "    \n",
      "    Parameters\n",
      "    ----------\n",
      "    a : array_like\n",
      "        Input array or object that can be converted to an array.\n",
      "    axis : {int, sequence of int, None}, optional\n",
      "        Axis or axes along which the medians are computed. The default\n",
      "        is to compute the median along a flattened version of the array.\n",
      "        A sequence of axes is supported since version 1.9.0.\n",
      "    out : ndarray, optional\n",
      "        Alternative output array in which to place the result. It must\n",
      "        have the same shape and buffer length as the expected output,\n",
      "        but the type (of the output) will be cast if necessary.\n",
      "    overwrite_input : bool, optional\n",
      "       If True, then allow use of memory of input array `a` for\n",
      "       calculations. The input array will be modified by the call to\n",
      "       `median`. This will save memory when you do not need to preserve\n",
      "       the contents of the input array. Treat the input as undefined,\n",
      "       but it will probably be fully or partially sorted. Default is\n",
      "       False. If `overwrite_input` is ``True`` and `a` is not already an\n",
      "       `ndarray`, an error will be raised.\n",
      "    keepdims : bool, optional\n",
      "        If this is set to True, the axes which are reduced are left\n",
      "        in the result as dimensions with size one. With this option,\n",
      "        the result will broadcast correctly against the original `arr`.\n",
      "    \n",
      "        .. versionadded:: 1.9.0\n",
      "    \n",
      "    Returns\n",
      "    -------\n",
      "    median : ndarray\n",
      "        A new array holding the result. If the input contains integers\n",
      "        or floats smaller than ``float64``, then the output data-type is\n",
      "        ``np.float64``.  Otherwise, the data-type of the output is the\n",
      "        same as that of the input. If `out` is specified, that array is\n",
      "        returned instead.\n",
      "    \n",
      "    See Also\n",
      "    --------\n",
      "    mean, percentile\n",
      "    \n",
      "    Notes\n",
      "    -----\n",
      "    Given a vector ``V`` of length ``N``, the median of ``V`` is the\n",
      "    middle value of a sorted copy of ``V``, ``V_sorted`` - i\n",
      "    e., ``V_sorted[(N-1)/2]``, when ``N`` is odd, and the average of the\n",
      "    two middle values of ``V_sorted`` when ``N`` is even.\n",
      "    \n",
      "    Examples\n",
      "    --------\n",
      "    >>> a = np.array([[10, 7, 4], [3, 2, 1]])\n",
      "    >>> a\n",
      "    array([[10,  7,  4],\n",
      "           [ 3,  2,  1]])\n",
      "    >>> np.median(a)\n",
      "    3.5\n",
      "    >>> np.median(a, axis=0)\n",
      "    array([6.5, 4.5, 2.5])\n",
      "    >>> np.median(a, axis=1)\n",
      "    array([7.,  2.])\n",
      "    >>> m = np.median(a, axis=0)\n",
      "    >>> out = np.zeros_like(m)\n",
      "    >>> np.median(a, axis=0, out=m)\n",
      "    array([6.5,  4.5,  2.5])\n",
      "    >>> m\n",
      "    array([6.5,  4.5,  2.5])\n",
      "    >>> b = a.copy()\n",
      "    >>> np.median(b, axis=1, overwrite_input=True)\n",
      "    array([7.,  2.])\n",
      "    >>> assert not np.all(a==b)\n",
      "    >>> b = a.copy()\n",
      "    >>> np.median(b, axis=None, overwrite_input=True)\n",
      "    3.5\n",
      "    >>> assert not np.all(a==b)\n",
      "\n"
     ]
    }
   ],
   "source": [
    "help(np.median)"
   ]
  },
  {
   "cell_type": "code",
   "execution_count": 10,
   "id": "99ee2c19",
   "metadata": {},
   "outputs": [
    {
     "data": {
      "text/plain": [
       "4"
      ]
     },
     "execution_count": 10,
     "metadata": {},
     "output_type": "execute_result"
    }
   ],
   "source": [
    "np.percentile(arr, 50, method='higher')  # 百分位數取中間值，遇偶數個使用interpolation指定高還低\n",
    "# np.percentile(arr, 50, interpolation='higher')"
   ]
  },
  {
   "cell_type": "code",
   "execution_count": 35,
   "id": "70db1e1a",
   "metadata": {},
   "outputs": [
    {
     "name": "stdout",
     "output_type": "stream",
     "text": [
      "Help on function percentile in module numpy:\n",
      "\n",
      "percentile(a, q, axis=None, out=None, overwrite_input=False, interpolation='linear', keepdims=False)\n",
      "    Compute the q-th percentile of the data along the specified axis.\n",
      "    \n",
      "    Returns the q-th percentile(s) of the array elements.\n",
      "    \n",
      "    Parameters\n",
      "    ----------\n",
      "    a : array_like\n",
      "        Input array or object that can be converted to an array.\n",
      "    q : array_like of float\n",
      "        Percentile or sequence of percentiles to compute, which must be between\n",
      "        0 and 100 inclusive.\n",
      "    axis : {int, tuple of int, None}, optional\n",
      "        Axis or axes along which the percentiles are computed. The\n",
      "        default is to compute the percentile(s) along a flattened\n",
      "        version of the array.\n",
      "    \n",
      "        .. versionchanged:: 1.9.0\n",
      "            A tuple of axes is supported\n",
      "    out : ndarray, optional\n",
      "        Alternative output array in which to place the result. It must\n",
      "        have the same shape and buffer length as the expected output,\n",
      "        but the type (of the output) will be cast if necessary.\n",
      "    overwrite_input : bool, optional\n",
      "        If True, then allow the input array `a` to be modified by intermediate\n",
      "        calculations, to save memory. In this case, the contents of the input\n",
      "        `a` after this function completes is undefined.\n",
      "    \n",
      "    interpolation : {'linear', 'lower', 'higher', 'midpoint', 'nearest'}\n",
      "        This optional parameter specifies the interpolation method to\n",
      "        use when the desired percentile lies between two data points\n",
      "        ``i < j``:\n",
      "    \n",
      "        * 'linear': ``i + (j - i) * fraction``, where ``fraction``\n",
      "          is the fractional part of the index surrounded by ``i``\n",
      "          and ``j``.\n",
      "        * 'lower': ``i``.\n",
      "        * 'higher': ``j``.\n",
      "        * 'nearest': ``i`` or ``j``, whichever is nearest.\n",
      "        * 'midpoint': ``(i + j) / 2``.\n",
      "    \n",
      "        .. versionadded:: 1.9.0\n",
      "    keepdims : bool, optional\n",
      "        If this is set to True, the axes which are reduced are left in\n",
      "        the result as dimensions with size one. With this option, the\n",
      "        result will broadcast correctly against the original array `a`.\n",
      "    \n",
      "        .. versionadded:: 1.9.0\n",
      "    \n",
      "    Returns\n",
      "    -------\n",
      "    percentile : scalar or ndarray\n",
      "        If `q` is a single percentile and `axis=None`, then the result\n",
      "        is a scalar. If multiple percentiles are given, first axis of\n",
      "        the result corresponds to the percentiles. The other axes are\n",
      "        the axes that remain after the reduction of `a`. If the input\n",
      "        contains integers or floats smaller than ``float64``, the output\n",
      "        data-type is ``float64``. Otherwise, the output data-type is the\n",
      "        same as that of the input. If `out` is specified, that array is\n",
      "        returned instead.\n",
      "    \n",
      "    See Also\n",
      "    --------\n",
      "    mean\n",
      "    median : equivalent to ``percentile(..., 50)``\n",
      "    nanpercentile\n",
      "    quantile : equivalent to percentile, except with q in the range [0, 1].\n",
      "    \n",
      "    Notes\n",
      "    -----\n",
      "    Given a vector ``V`` of length ``N``, the q-th percentile of\n",
      "    ``V`` is the value ``q/100`` of the way from the minimum to the\n",
      "    maximum in a sorted copy of ``V``. The values and distances of\n",
      "    the two nearest neighbors as well as the `interpolation` parameter\n",
      "    will determine the percentile if the normalized ranking does not\n",
      "    match the location of ``q`` exactly. This function is the same as\n",
      "    the median if ``q=50``, the same as the minimum if ``q=0`` and the\n",
      "    same as the maximum if ``q=100``.\n",
      "    \n",
      "    Examples\n",
      "    --------\n",
      "    >>> a = np.array([[10, 7, 4], [3, 2, 1]])\n",
      "    >>> a\n",
      "    array([[10,  7,  4],\n",
      "           [ 3,  2,  1]])\n",
      "    >>> np.percentile(a, 50)\n",
      "    3.5\n",
      "    >>> np.percentile(a, 50, axis=0)\n",
      "    array([6.5, 4.5, 2.5])\n",
      "    >>> np.percentile(a, 50, axis=1)\n",
      "    array([7.,  2.])\n",
      "    >>> np.percentile(a, 50, axis=1, keepdims=True)\n",
      "    array([[7.],\n",
      "           [2.]])\n",
      "    \n",
      "    >>> m = np.percentile(a, 50, axis=0)\n",
      "    >>> out = np.zeros_like(m)\n",
      "    >>> np.percentile(a, 50, axis=0, out=out)\n",
      "    array([6.5, 4.5, 2.5])\n",
      "    >>> m\n",
      "    array([6.5, 4.5, 2.5])\n",
      "    \n",
      "    >>> b = a.copy()\n",
      "    >>> np.percentile(b, 50, axis=1, overwrite_input=True)\n",
      "    array([7.,  2.])\n",
      "    >>> assert not np.all(a == b)\n",
      "    \n",
      "    The different types of interpolation can be visualized graphically:\n",
      "    \n",
      "    .. plot::\n",
      "    \n",
      "        import matplotlib.pyplot as plt\n",
      "    \n",
      "        a = np.arange(4)\n",
      "        p = np.linspace(0, 100, 6001)\n",
      "        ax = plt.gca()\n",
      "        lines = [\n",
      "            ('linear', None),\n",
      "            ('higher', '--'),\n",
      "            ('lower', '--'),\n",
      "            ('nearest', '-.'),\n",
      "            ('midpoint', '-.'),\n",
      "        ]\n",
      "        for interpolation, style in lines:\n",
      "            ax.plot(\n",
      "                p, np.percentile(a, p, interpolation=interpolation),\n",
      "                label=interpolation, linestyle=style)\n",
      "        ax.set(\n",
      "            title='Interpolation methods for list: ' + str(a),\n",
      "            xlabel='Percentile',\n",
      "            ylabel='List item returned',\n",
      "            yticks=a)\n",
      "        ax.legend()\n",
      "        plt.show()\n",
      "\n"
     ]
    }
   ],
   "source": [
    "help(np.percentile)"
   ]
  },
  {
   "cell_type": "code",
   "execution_count": 36,
   "id": "2e8b5f92",
   "metadata": {},
   "outputs": [
    {
     "data": {
      "text/plain": [
       "array([ 2,  4,  6,  8, 10, 12])"
      ]
     },
     "execution_count": 36,
     "metadata": {},
     "output_type": "execute_result"
    }
   ],
   "source": [
    "arr * 2"
   ]
  },
  {
   "cell_type": "code",
   "execution_count": 37,
   "id": "e6a22c8f",
   "metadata": {},
   "outputs": [
    {
     "data": {
      "text/plain": [
       "array([11, 12, 13, 14, 15, 16])"
      ]
     },
     "execution_count": 37,
     "metadata": {},
     "output_type": "execute_result"
    }
   ],
   "source": [
    "arr + 10"
   ]
  },
  {
   "cell_type": "markdown",
   "id": "abb9deaa",
   "metadata": {},
   "source": [
    "### 標準差 $\\sigma = \\sqrt{\\frac{1}{n} \\sum_{i=1}^n (x_i-\\mu)^2}$"
   ]
  },
  {
   "cell_type": "code",
   "execution_count": 38,
   "id": "02de858f",
   "metadata": {},
   "outputs": [],
   "source": [
    "mu = arr.mean()"
   ]
  },
  {
   "cell_type": "code",
   "execution_count": 39,
   "id": "c8b5e149",
   "metadata": {},
   "outputs": [
    {
     "data": {
      "text/plain": [
       "array([-2.5, -1.5, -0.5,  0.5,  1.5,  2.5])"
      ]
     },
     "execution_count": 39,
     "metadata": {},
     "output_type": "execute_result"
    }
   ],
   "source": [
    "arr - mu"
   ]
  },
  {
   "cell_type": "code",
   "execution_count": 40,
   "id": "ce95cd44",
   "metadata": {},
   "outputs": [
    {
     "data": {
      "text/plain": [
       "21"
      ]
     },
     "execution_count": 40,
     "metadata": {},
     "output_type": "execute_result"
    }
   ],
   "source": [
    "arr.sum()  # 加總"
   ]
  },
  {
   "cell_type": "code",
   "execution_count": 44,
   "id": "dfa04198",
   "metadata": {},
   "outputs": [
    {
     "data": {
      "text/plain": [
       "array([6.25, 2.25, 0.25, 0.25, 2.25, 6.25])"
      ]
     },
     "execution_count": 44,
     "metadata": {},
     "output_type": "execute_result"
    }
   ],
   "source": [
    "np.power((arr - mu), 2)  # 次方"
   ]
  },
  {
   "cell_type": "code",
   "execution_count": 45,
   "id": "6e220306",
   "metadata": {},
   "outputs": [
    {
     "data": {
      "text/plain": [
       "2.9166666666666665"
      ]
     },
     "execution_count": 45,
     "metadata": {},
     "output_type": "execute_result"
    }
   ],
   "source": [
    "np.power((arr - mu), 2).mean()"
   ]
  },
  {
   "cell_type": "code",
   "execution_count": 46,
   "id": "8ef9745d",
   "metadata": {},
   "outputs": [
    {
     "data": {
      "text/plain": [
       "1.707825127659933"
      ]
     },
     "execution_count": 46,
     "metadata": {},
     "output_type": "execute_result"
    }
   ],
   "source": [
    "np.sqrt(np.power((arr - mu), 2).mean())  # 開根號"
   ]
  },
  {
   "cell_type": "code",
   "execution_count": 47,
   "id": "7b9e97f7",
   "metadata": {},
   "outputs": [
    {
     "data": {
      "text/plain": [
       "1.707825127659933"
      ]
     },
     "execution_count": 47,
     "metadata": {},
     "output_type": "execute_result"
    }
   ],
   "source": [
    "arr.std()  # 標準差"
   ]
  },
  {
   "cell_type": "code",
   "execution_count": 48,
   "id": "2e28bb3a",
   "metadata": {},
   "outputs": [
    {
     "data": {
      "text/plain": [
       "array([ 0.34438054,  0.25616739,  1.14842284,  0.83795458, -0.47179853,\n",
       "        1.28399599,  0.16713383, -0.56153994,  1.31188664, -0.01999242])"
      ]
     },
     "execution_count": 48,
     "metadata": {},
     "output_type": "execute_result"
    }
   ],
   "source": [
    "np.random.normal(0, 1, 10)  # 常態分佈陣列"
   ]
  },
  {
   "cell_type": "code",
   "execution_count": 49,
   "id": "0fb17c38",
   "metadata": {},
   "outputs": [
    {
     "data": {
      "text/plain": [
       "array([1, 2, 3, 4, 5, 6])"
      ]
     },
     "execution_count": 49,
     "metadata": {},
     "output_type": "execute_result"
    }
   ],
   "source": [
    "arr"
   ]
  },
  {
   "cell_type": "code",
   "execution_count": 50,
   "id": "eef1b454",
   "metadata": {},
   "outputs": [
    {
     "data": {
      "text/plain": [
       "array([False, False, False,  True,  True,  True])"
      ]
     },
     "execution_count": 50,
     "metadata": {},
     "output_type": "execute_result"
    }
   ],
   "source": [
    "arr > 3"
   ]
  },
  {
   "cell_type": "code",
   "execution_count": 51,
   "id": "c9197487",
   "metadata": {},
   "outputs": [
    {
     "data": {
      "text/plain": [
       "array([ True,  True,  True, False, False, False])"
      ]
     },
     "execution_count": 51,
     "metadata": {},
     "output_type": "execute_result"
    }
   ],
   "source": [
    "~(arr > 3)  # 等同arr <= 3,反向表示"
   ]
  },
  {
   "cell_type": "code",
   "execution_count": 53,
   "id": "aa10a2e5",
   "metadata": {},
   "outputs": [
    {
     "name": "stdout",
     "output_type": "stream",
     "text": [
      "[False False  True  True  True  True]\n",
      "[ True  True  True  True False False]\n",
      "[False False  True  True False False]\n"
     ]
    }
   ],
   "source": [
    "print(arr > 2)\n",
    "print(arr < 5)\n",
    "print((arr > 2) & (arr < 5))"
   ]
  },
  {
   "cell_type": "code",
   "execution_count": 54,
   "id": "be9e357b",
   "metadata": {},
   "outputs": [
    {
     "name": "stdout",
     "output_type": "stream",
     "text": [
      "{3, 4, 5, 6}\n",
      "{1, 2, 3, 4}\n"
     ]
    }
   ],
   "source": [
    "print(set([3, 4, 5, 6]))\n",
    "print(set([1, 2, 3, 4]))"
   ]
  },
  {
   "cell_type": "code",
   "execution_count": 55,
   "id": "d1763b2a",
   "metadata": {},
   "outputs": [
    {
     "data": {
      "text/plain": [
       "{3, 4}"
      ]
     },
     "execution_count": 55,
     "metadata": {},
     "output_type": "execute_result"
    }
   ],
   "source": [
    "set([3, 4, 5, 6]) & set([1, 2, 3, 4])  # 交集"
   ]
  },
  {
   "cell_type": "code",
   "execution_count": 56,
   "id": "69a39fa7",
   "metadata": {},
   "outputs": [
    {
     "data": {
      "text/plain": [
       "{1, 2, 3, 4, 5, 6}"
      ]
     },
     "execution_count": 56,
     "metadata": {},
     "output_type": "execute_result"
    }
   ],
   "source": [
    "set([3, 4, 5, 6]) | set([1, 2, 3, 4])  # 聯集"
   ]
  },
  {
   "cell_type": "code",
   "execution_count": 57,
   "id": "d2f14db7",
   "metadata": {},
   "outputs": [
    {
     "data": {
      "text/plain": [
       "{5, 6}"
      ]
     },
     "execution_count": 57,
     "metadata": {},
     "output_type": "execute_result"
    }
   ],
   "source": [
    "set([3, 4, 5, 6]) - set([1, 2, 3, 4])  # 差集"
   ]
  },
  {
   "cell_type": "code",
   "execution_count": 58,
   "id": "9780dc37",
   "metadata": {},
   "outputs": [
    {
     "data": {
      "text/plain": [
       "{1, 2}"
      ]
     },
     "execution_count": 58,
     "metadata": {},
     "output_type": "execute_result"
    }
   ],
   "source": [
    "set([1, 2, 3, 4]) - set([3, 4, 5, 6])  # 差集"
   ]
  },
  {
   "cell_type": "code",
   "execution_count": 59,
   "id": "966e8ecb",
   "metadata": {},
   "outputs": [
    {
     "data": {
      "text/plain": [
       "array([ True,  True,  True,  True,  True,  True])"
      ]
     },
     "execution_count": 59,
     "metadata": {},
     "output_type": "execute_result"
    }
   ],
   "source": [
    "(arr > 2) | (arr < 5)  # 聯集"
   ]
  },
  {
   "cell_type": "code",
   "execution_count": 60,
   "id": "cb50d634",
   "metadata": {},
   "outputs": [
    {
     "data": {
      "text/plain": [
       "array([ True,  True, False, False,  True,  True])"
      ]
     },
     "execution_count": 60,
     "metadata": {},
     "output_type": "execute_result"
    }
   ],
   "source": [
    "(arr > 2) ^ (arr < 5)  # 補集"
   ]
  },
  {
   "cell_type": "code",
   "execution_count": 61,
   "id": "8867ac47",
   "metadata": {},
   "outputs": [
    {
     "data": {
      "text/plain": [
       "array([False, False,  True,  True, False, False])"
      ]
     },
     "execution_count": 61,
     "metadata": {},
     "output_type": "execute_result"
    }
   ],
   "source": [
    "(arr > 2) & (arr < 5)  # 交集"
   ]
  },
  {
   "cell_type": "code",
   "execution_count": 62,
   "id": "a8f56156",
   "metadata": {},
   "outputs": [
    {
     "data": {
      "text/plain": [
       "array([False, False, False, False, False, False])"
      ]
     },
     "execution_count": 62,
     "metadata": {},
     "output_type": "execute_result"
    }
   ],
   "source": [
    "~(arr > 2) & ~(arr < 5)"
   ]
  },
  {
   "cell_type": "code",
   "execution_count": null,
   "id": "efaea9d3",
   "metadata": {},
   "outputs": [],
   "source": []
  }
 ],
 "metadata": {
  "kernelspec": {
   "display_name": "Python 3 (ipykernel)",
   "language": "python",
   "name": "python3"
  },
  "language_info": {
   "codemirror_mode": {
    "name": "ipython",
    "version": 3
   },
   "file_extension": ".py",
   "mimetype": "text/x-python",
   "name": "python",
   "nbconvert_exporter": "python",
   "pygments_lexer": "ipython3",
   "version": "3.8.10"
  }
 },
 "nbformat": 4,
 "nbformat_minor": 5
}
